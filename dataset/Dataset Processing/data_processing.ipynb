{
 "cells": [
  {
   "cell_type": "code",
   "execution_count": 1,
   "id": "d2109dea",
   "metadata": {},
   "outputs": [],
   "source": [
    "import os\n",
    "import pandas as pd\n",
    "import networkx as nx\n",
    "import matplotlib.pyplot as plt\n",
    "import random as rd"
   ]
  },
  {
   "cell_type": "code",
   "execution_count": 2,
   "id": "62557ff5",
   "metadata": {},
   "outputs": [],
   "source": [
    "def readFile(folderPath):    \n",
    "    with open(folderPath, 'r') as f:\n",
    "        fileContents = f.readlines()\n",
    "    return fileContents"
   ]
  },
  {
   "cell_type": "code",
   "execution_count": 3,
   "id": "288e6ab8",
   "metadata": {},
   "outputs": [],
   "source": [
    "def fillInfoFromContents(fileContents, info):\n",
    "    for i, content in enumerate(fileContents):\n",
    "        if i == 0:\n",
    "            info['Instance Name'].append(content.split()[2])\n",
    "        elif i == 1:\n",
    "            info['Number of Nodes'].append([int(word) for word in content.split() if word.isdigit()][0])\n",
    "        elif i == 2:\n",
    "            info['Required Edges'].append([int(word) for word in content.split() if word.isdigit()][0])\n",
    "        elif i == 3:\n",
    "            c = [int(word) for word in content.split() if word.isdigit()][0]\n",
    "        elif i == 6:\n",
    "            info['Capacity'].append([int(word) for word in content.split() if word.isdigit()][0])\n",
    "        elif i == 9:\n",
    "            info['Depot Nodes'].append([int(word) for word in content.split() if word.isdigit()])\n",
    "            info['Number of Depot Nodes'].append(len(info['Depot Nodes'][-1]))\n",
    "        \n",
    "    info['Number of Edges'].append(c + info['Required Edges'][-1])"
   ]
  },
  {
   "cell_type": "code",
   "execution_count": 4,
   "id": "ea699789",
   "metadata": {},
   "outputs": [],
   "source": [
    "def readAndStoreInstanceInfo(folderPath):\n",
    "    info = {'Instance Name' : [],\n",
    "            'Number of Nodes' : [],\n",
    "            'Number of Edges' : [],\n",
    "            'Required Edges' : [],\n",
    "            'Capacity' : [],\n",
    "            'Number of Depot Nodes' : [],\n",
    "            'Depot Nodes' : []}\n",
    "    for i, file in enumerate(os.listdir(folderPath)):\n",
    "        if file.endswith(\".txt\"):\n",
    "            file_path = f\"{folderPath}/{file}\"\n",
    "            fileContents = readFile(file_path)\n",
    "            fillInfoFromContents(fileContents, info)\n",
    "\n",
    "    df = pd.DataFrame(data=info,columns=['Instance Name','Number of Nodes', 'Number of Edges',\n",
    "                                     'Required Edges', 'Capacity', 'Number of Depot Nodes', 'Depot Nodes'])\n",
    "    print(df.columns)\n",
    "    df.to_csv(\"DeArmon_dataset_info.csv\")\n",
    "    df.sort_values(by='Number of Edges', ascending=False)\n",
    "    return info"
   ]
  },
  {
   "cell_type": "code",
   "execution_count": 5,
   "id": "0d3c936d",
   "metadata": {},
   "outputs": [],
   "source": [
    "def createGraphfromFile(file, info, index):\n",
    "    fileContents = readFile(file)\n",
    "    s = [\"LIST_REQ_EDGES :\\n\", \"LIST_NOREQ_EDGES :\\n\"]\n",
    "    startProcessing = False\n",
    "    startNode = []\n",
    "    endNode = []\n",
    "    edgeWeight = []\n",
    "    i = 0\n",
    "    for contents in fileContents:\n",
    "        if contents == s[i] and startProcessing:\n",
    "            startProcessing = False\n",
    "            break\n",
    "\n",
    "        if startProcessing:\n",
    "            startNode.append([int(letters) for word in contents.split() for letters in word.split(\",\") if letters.isdigit()][0])\n",
    "            endNode.append([int(letters) for word in contents.split() for letters in word.split(\",\") if letters.isdigit()][1])\n",
    "            edgeWeight.append([int(letters) for word in contents.split() for letters in word.split(\",\") if letters.isdigit()][2])\n",
    "\n",
    "        if contents == s[i]:\n",
    "            startProcessing = True\n",
    "            i += 1\n",
    "    requiredEdges = []\n",
    "    for i in range(info['Required Edges'][index]):\n",
    "        requiredEdges.append([startNode[i], endNode[i]])\n",
    "        \n",
    "    return startNode, endNode, edgeWeight"
   ]
  },
  {
   "cell_type": "code",
   "execution_count": 6,
   "id": "a43c4c10",
   "metadata": {},
   "outputs": [],
   "source": [
    "def plotGraph(depotNodes ,requiredEdges, numNodes, s, t, weights, show=True):\n",
    "    G = nx.Graph()\n",
    "    edges = []    \n",
    "    for i in range(len(s)):\n",
    "        edges.append((s[i], t[i], weights[i]))\n",
    "    \n",
    "    for i in range(1, numNodes+1):\n",
    "        G.add_node(i)\n",
    "    pos = nx.spring_layout(G)\n",
    "    node_color = ['y']*int(G.number_of_nodes())\n",
    "    depot_node_color = node_color\n",
    "    for i in range(1, len(node_color)+1):\n",
    "        if i in depotNodes:\n",
    "            depot_node_color[i-1] = 'g'\n",
    "            \n",
    "    G.add_weighted_edges_from(edges)\n",
    "    labels = nx.get_edge_attributes(G,'weight')\n",
    "    nx.draw_networkx(G,pos, node_color = node_color)\n",
    "    nx.draw_networkx(G,pos, node_color = depot_node_color)\n",
    "    nx.draw_networkx_edges(G, pos, edgelist=requiredEdges, width=3, alpha=0.5,\n",
    "                                        edge_color=\"r\")\n",
    "    nx.draw_networkx_edge_labels(G, pos, edge_labels=labels)\n",
    "    if show:\n",
    "        plt.figure(1)\n",
    "#         plt.show()\n",
    "    return G,pos, depot_node_color, edges"
   ]
  },
  {
   "cell_type": "code",
   "execution_count": 7,
   "id": "46636598",
   "metadata": {},
   "outputs": [],
   "source": [
    "def creatingIcyRoadInstance(file, info, index, startNode, endNode, edgeWeight):\n",
    "    newDepotNodes = []\n",
    "    requiredEdgeIndexes = []\n",
    "    newRequiredEdges = []\n",
    "    count = 0\n",
    "    while count <= (info['Number of Nodes'][index]//5):\n",
    "        node = rd.randint(1, info['Number of Nodes'][index]+1)\n",
    "        if node not in newDepotNodes:\n",
    "            newDepotNodes.append(node)\n",
    "            count += 1\n",
    "    count = 0\n",
    "    while count <= (info['Number of Edges'][index]//3):\n",
    "        edge = rd.randint(0, info['Number of Edges'][index])\n",
    "        if edge not in requiredEdgeIndexes:\n",
    "            requiredEdgeIndexes.append(edge)\n",
    "            count += 1\n",
    "    for i in range(info['Number of Edges'][index]):\n",
    "        if i in requiredEdgeIndexes:\n",
    "            newRequiredEdges.append([startNode[i], endNode[i]])\n",
    "    G,pos, depot_node_color, edges = plotGraph(newDepotNodes, newRequiredEdges, info['Number of Nodes'][index], startNode, endNode, edgeWeight)\n",
    "#     plt.savefig('../IcyRoad Instances from DeArmon/icy_road_' + info['Instance Name'][index] + '.png')\n",
    "    #     plt.show()\n",
    "#     nx.write_gpickle('../IcyRoad DeArmon graph files/' + info['Instance Name'][index] + '.pkl')\n",
    "    return G, pos, depot_node_color, edges, newDepotNodes, newRequiredEdges, 2*max(edgeWeight), G.number_of_nodes()\n"
   ]
  },
  {
   "cell_type": "code",
   "execution_count": 9,
   "id": "9c689d51",
   "metadata": {},
   "outputs": [],
   "source": [
    "def createGraph(inputType = 'txt'):\n",
    "#     folderPath = '../CARP_datasets/DeArmon_gdb-IF'\n",
    "#     for i, file in enumerate(os.listdir(folderPath)):\n",
    "#         if file.endswith(\".txt\"):\n",
    "#             file_path = f\"{folderPath}/{file}\"\n",
    "    file_path = '../../../CARP_datasets/DeArmon_gdb-IF/gdb-IF-01.txt'\n",
    "    info = readAndStoreInstanceInfo('../CARP_datasets/DeArmon_gdb-IF')\n",
    "    startNode, endNode, edgeWeight = createGraphfromFile(file_path, info, 0)\n",
    "    G, pos, depot_node_color, edges, depotNodes, requiredNodes, vehicleCapacity, numNodes = creatingIcyRoadInstance(file_path, info, 0, startNode, endNode, edgeWeight)\n",
    "    return G, pos, depot_node_color, edges, depotNodes, requiredNodes, vehicleCapacity, numNodes"
   ]
  },
  {
   "cell_type": "code",
   "execution_count": null,
   "id": "1bc1efa6",
   "metadata": {},
   "outputs": [],
   "source": []
  },
  {
   "cell_type": "code",
   "execution_count": null,
   "id": "9667a1f0",
   "metadata": {},
   "outputs": [],
   "source": []
  },
  {
   "cell_type": "code",
   "execution_count": null,
   "id": "8a99c710",
   "metadata": {},
   "outputs": [],
   "source": []
  }
 ],
 "metadata": {
  "kernelspec": {
   "display_name": "Python (osmnx)",
   "language": "python",
   "name": "icy_road"
  },
  "language_info": {
   "codemirror_mode": {
    "name": "ipython",
    "version": 3
   },
   "file_extension": ".py",
   "mimetype": "text/x-python",
   "name": "python",
   "nbconvert_exporter": "python",
   "pygments_lexer": "ipython3",
   "version": "3.8.10"
  }
 },
 "nbformat": 4,
 "nbformat_minor": 5
}
